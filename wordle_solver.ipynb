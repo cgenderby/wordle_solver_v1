{
 "cells": [
  {
   "cell_type": "markdown",
   "id": "800a93b7",
   "metadata": {},
   "source": [
    "Need to check list of words for repeats, need unique list\n",
    "Check importance of double letters (is prioritizing more characters more valuable than repeats of higher \"value\" letters)\n",
    "Increase char prop values by 1000 to make values more readable"
   ]
  },
  {
   "cell_type": "code",
   "execution_count": null,
   "id": "9b9bf673",
   "metadata": {},
   "outputs": [],
   "source": [
    "# load packages\n",
    "\n",
    "import pandas as pd\n",
    "import numpy as np\n",
    "np.random.seed(59)\n",
    "import seaborn as sns\n",
    "import math\n",
    "import string\n",
    "\n",
    "import matplotlib.pyplot as plt\n",
    "from matplotlib.gridspec import GridSpec\n",
    "\n",
    "from sklearn.model_selection import train_test_split, GridSearchCV\n",
    "from sklearn.preprocessing import StandardScaler\n",
    "from sklearn.linear_model import LogisticRegression, LogisticRegressionCV\n",
    "from sklearn.ensemble import RandomForestClassifier\n",
    "from sklearn import metrics \n",
    "\n",
    "import urllib.request\n",
    "\n",
    "import warnings\n",
    "warnings.filterwarnings('ignore')\n",
    "\n",
    "%matplotlib inline"
   ]
  },
  {
   "cell_type": "code",
   "execution_count": null,
   "id": "30b07623",
   "metadata": {
    "scrolled": true
   },
   "outputs": [],
   "source": [
    "# read in list of words to be used as database of answers\n",
    "\n",
    "url = \"https://www-cs-faculty.stanford.edu/~knuth/sgb-words.txt\"\n",
    "file = urllib.request.urlopen(url)\n",
    "db = []\n",
    "\n",
    "for line in file:\n",
    "    decoded_line = line.decode(\"utf-8\")\n",
    "    db.append(decoded_line)\n",
    "    \n",
    "db"
   ]
  },
  {
   "cell_type": "code",
   "execution_count": null,
   "id": "523a5091",
   "metadata": {},
   "outputs": [],
   "source": [
    "# cleaning up list, converting to upper case to match wordle\n",
    "\n",
    "db_temp = []\n",
    "\n",
    "for x in db:\n",
    "    cut_string = x[:5]\n",
    "    db_temp.append(cut_string.upper())\n",
    "    \n",
    "db_temp \n",
    "db = db_temp.copy()\n",
    "db_temp.clear()\n",
    "\n",
    "db"
   ]
  },
  {
   "cell_type": "code",
   "execution_count": null,
   "id": "9f5bb9b9",
   "metadata": {},
   "outputs": [],
   "source": [
    "# checking length of list\n",
    "\n",
    "len(db)"
   ]
  },
  {
   "cell_type": "code",
   "execution_count": null,
   "id": "42cba510",
   "metadata": {},
   "outputs": [],
   "source": [
    "# function for splitting words\n",
    "\n",
    "def split(word):\n",
    "    return [char for char in word]"
   ]
  },
  {
   "cell_type": "code",
   "execution_count": null,
   "id": "3a7298fb",
   "metadata": {},
   "outputs": [],
   "source": [
    "# function for determing distribution of letters, based upon original data set. Also determined letter weighting\n",
    "\n",
    "char_count = {}\n",
    "char_totals = {}\n",
    "char_st = {}\n",
    "char_temp = []\n",
    "\n",
    "def char_totals_func(word_list):\n",
    "\n",
    "    char_count.clear()\n",
    "    \n",
    "    for word in word_list:\n",
    "        char_temp = split(word)\n",
    "\n",
    "        for char in char_temp:\n",
    "            if (char in char_count):\n",
    "                char_count[char] += 1\n",
    "            else:\n",
    "                char_count[char] = 1\n",
    "                \n",
    "    char_totals.clear()\n",
    "    \n",
    "    sorted_chars = dict(sorted(char_count.items(), key = lambda x: x[0].lower()))\n",
    "    \n",
    "    for k,v in sorted_chars.items():\n",
    "        char_totals[k] = v\n",
    "    \n",
    "    print(char_totals)\n",
    "\n",
    "    # confirming values match total words times 5 letters\n",
    "    print('Expected Number = ' + str(len(word_list)*5))\n",
    "    print('Sum of letter count = ' + str(sum(char_totals.values())))\n",
    "\n",
    "    plt.bar(list(char_totals.keys()), char_totals.values(), color = 'b')\n",
    "    plt.show()\n",
    "    \n",
    "    char_st.clear()\n",
    "\n",
    "    for k,v in char_totals.items():\n",
    "        char_st[k] = v/sum(char_totals.values())\n",
    "\n",
    "    char_max = (max(char_st.values()))\n",
    "\n",
    "    for k,v in char_st.items():\n",
    "        char_st[k] = (v/char_max)*1"
   ]
  },
  {
   "cell_type": "code",
   "execution_count": null,
   "id": "4de28f68",
   "metadata": {},
   "outputs": [],
   "source": [
    "# running counter on original database           \n",
    "char_totals_func(db)"
   ]
  },
  {
   "cell_type": "code",
   "execution_count": null,
   "id": "5862133d",
   "metadata": {},
   "outputs": [],
   "source": [
    "# function for sorting data set to only words in five unique values\n",
    "\n",
    "db_uniques = []\n",
    "\n",
    "def db_uniques_func(word_list):\n",
    "\n",
    "    db_uniques.clear()\n",
    "    \n",
    "    for word in word_list:\n",
    "        char_temp = split(word)\n",
    "\n",
    "        if (len(set(char_temp)) == len(word)): db_uniques.append(word)\n",
    "\n",
    "    print('Filtered list length: ' + str(len(db_uniques)))\n",
    "    print(str(len(word_list)-len(db_uniques)) + ' words have been removed')"
   ]
  },
  {
   "cell_type": "code",
   "execution_count": null,
   "id": "6925a395",
   "metadata": {},
   "outputs": [],
   "source": [
    "# sorting for uniques on original data set\n",
    "db_uniques_func(db)"
   ]
  },
  {
   "cell_type": "code",
   "execution_count": null,
   "id": "175da331",
   "metadata": {},
   "outputs": [],
   "source": [
    "# function for weighting words in list. Gives highest strength word in list\n",
    "# db stores words\n",
    "\n",
    "word_st = {}\n",
    "char_st_temp = {}\n",
    "\n",
    "def word_st_func(word_list):\n",
    "    \n",
    "    word_st.clear()\n",
    "    \n",
    "    for word in word_list:\n",
    "        char_temp = split(word)\n",
    "\n",
    "        char_st_temp = {}\n",
    "        word_st_temp = 1\n",
    "\n",
    "\n",
    "        for char in char_temp:\n",
    "            if (char in char_st_temp):\n",
    "                char_st_temp[char] = char_st_temp[char] * char_st[char]\n",
    "\n",
    "            else:\n",
    "                char_st_temp[char] = char_st[char]\n",
    "\n",
    "        for char in char_st_temp:\n",
    "            word_st_temp = word_st_temp * char_st_temp[char]\n",
    "\n",
    "\n",
    "        word_st[word] = word_st_temp"
   ]
  },
  {
   "cell_type": "code",
   "execution_count": null,
   "id": "0826e5e2",
   "metadata": {},
   "outputs": [],
   "source": [
    "# weighting each word in the filtered, unique data set\n",
    "\n",
    "word_st_func(db_uniques)\n",
    "print(\"Highest strength words: \" + str(sorted(word_st, key=word_st.get, reverse=True)[:5]))"
   ]
  },
  {
   "cell_type": "code",
   "execution_count": null,
   "id": "bd4ce41a",
   "metadata": {},
   "outputs": [],
   "source": [
    "# filtering based upon responses\n",
    "\n",
    "word_played_r1 = 'AROSE'"
   ]
  },
  {
   "cell_type": "code",
   "execution_count": null,
   "id": "adf51cd9",
   "metadata": {},
   "outputs": [],
   "source": [
    "# key: 0 = gray, 1 = yellow, 2 = green\n",
    "\n",
    "word_played_r1_result = [0,2,0,0,0]"
   ]
  },
  {
   "cell_type": "markdown",
   "id": "b529669c",
   "metadata": {},
   "source": [
    "#creating list of possible letters for each slot based upon database\n",
    "\n",
    "#creating dictionary that reflects all possible characters for each slot\n",
    "#char_loc_ref = dicionary containing all possible letters for each slot\n",
    "#key = char_temp.index(char)\n",
    "#value = char\n",
    "\n",
    "for word in db:\n",
    "    char_temp = []\n",
    "    \n",
    "    char_temp = split(word)\n",
    "    \n",
    "    for char in char_temp:\n",
    "        if char_temp.index(char) not in char_loc_ref:\n",
    "            char_loc_ref[char_temp.index(char)] = char \n",
    "        elif isinstance (char_loc_ref[char_temp.index(char)], list):\n",
    "            if char not in char_loc_ref[char_temp.index(char)]:\n",
    "                char_loc_ref[char_temp.index(char)].append(char)\n",
    "        else:\n",
    "            char_loc_ref[char_temp.index(char)] = [char_loc_ref[char_temp.index(char)], char]\n",
    "            \n",
    "for slot in char_loc_ref:\n",
    "    char_loc_ref[slot] = sorted(char_loc_ref[slot])\n",
    "    \n",
    "char_loc_ref"
   ]
  },
  {
   "cell_type": "code",
   "execution_count": null,
   "id": "480db507",
   "metadata": {},
   "outputs": [],
   "source": [
    "# creating list of all possible letters per slot\n",
    "\n",
    "char_loc_ref = {}\n",
    "\n",
    "for i in range(5):\n",
    "\n",
    "    char_loc_ref[i] = \"A\"\n",
    "    char_loc_ref[i] = [char_loc_ref[i], \"B\"]\n",
    "\n",
    "    for char in string.ascii_uppercase[2:]:\n",
    "        char_loc_ref[i].append(char)\n"
   ]
  },
  {
   "cell_type": "code",
   "execution_count": null,
   "id": "11a83575",
   "metadata": {},
   "outputs": [],
   "source": [
    "# function for filtering possible characters for each slot based upon result\n",
    "   \n",
    "char_include = []\n",
    "    \n",
    "def char_loc_ref_filt_func(word_played_rX, word_played_rX_result):\n",
    "    \n",
    "    char_temp = split(word_played_rX)\n",
    "\n",
    "    for i in range(len(word_played_rX_result)):\n",
    "        if word_played_rX_result[i] == 0:\n",
    "            for slot in char_loc_ref:\n",
    "                if char_temp[i] in char_loc_ref[slot] and len(char_loc_ref[slot]) != 1: char_loc_ref[slot].remove(char_temp[i])\n",
    "\n",
    "        if word_played_rX_result[i] == 1:\n",
    "            # Kept to account for answer not being in data set, leading to error\n",
    "            if char_temp[i] in char_loc_ref[i]: char_loc_ref[i].remove(char_temp[i])\n",
    "\n",
    "            if char_temp[i] not in char_include: char_include.append(char_temp[i])\n",
    "\n",
    "        if word_played_rX_result[i] == 2:\n",
    "                char_loc_ref[i].clear()\n",
    "                char_loc_ref[i].append(char_temp[i])\n",
    "\n",
    "    print(char_loc_ref)"
   ]
  },
  {
   "cell_type": "code",
   "execution_count": null,
   "id": "cd873aee",
   "metadata": {},
   "outputs": [],
   "source": [
    "# running filtering character reference list based on first round\n",
    "char_loc_ref_filt_func(word_played_r1, word_played_r1_result)"
   ]
  },
  {
   "cell_type": "code",
   "execution_count": null,
   "id": "100419ec",
   "metadata": {},
   "outputs": [],
   "source": [
    "# function for filtering data set based upon possible character values\n",
    "\n",
    "def db_filtered_func(db_to_filt):\n",
    "    \n",
    "    db_filtered_temp = db_to_filt.copy()\n",
    "\n",
    "    for word in db_to_filt:\n",
    "        char_temp = split(word)\n",
    "\n",
    "        for i in range(len(char_temp)):\n",
    "            if char_temp[i] not in char_loc_ref[i]:\n",
    "                db_filtered_temp.remove(word)            \n",
    "                break   \n",
    "\n",
    "    db_filtered_temp_output = db_filtered_temp.copy()\n",
    "    \n",
    "    for word in db_filtered_temp_output:\n",
    "        char_temp = split(word)\n",
    "\n",
    "        for char in char_include:\n",
    "            if char not in char_temp:\n",
    "                db_filtered_temp.remove(word)\n",
    "                break\n",
    "\n",
    "    global db_filtered\n",
    "    db_filtered = db_filtered_temp.copy()\n",
    "\n",
    "    print(db_filtered)\n",
    "    print(\"Number of Possible Answers: \" + str(len(db_filtered)))"
   ]
  },
  {
   "cell_type": "code",
   "execution_count": null,
   "id": "1f1a4ea2",
   "metadata": {},
   "outputs": [],
   "source": [
    "# filtered data set based upon resulted of first round\n",
    "db_filtered_func(db)"
   ]
  },
  {
   "cell_type": "code",
   "execution_count": null,
   "id": "84fcfa51",
   "metadata": {
    "scrolled": true
   },
   "outputs": [],
   "source": [
    "# determing distribution of letters, based upon filtered data set, determining new letter weighting\n",
    "# filtering for words with five unique letters on filtered data set\n",
    "# weighting words in new filtered list. Must include \"yellow\" letters\n",
    "\n",
    "char_totals_func(db_filtered)\n",
    "db_uniques_func(db_filtered)\n",
    "word_st_func(db_uniques)\n",
    "print(\"Highest strength words: \" + str(sorted(word_st, key=word_st.get, reverse=True)[:5]))"
   ]
  },
  {
   "cell_type": "code",
   "execution_count": null,
   "id": "4e5680ec",
   "metadata": {},
   "outputs": [],
   "source": [
    "# word played for round 2\n",
    "\n",
    "word_played_r2 = 'PRINT'"
   ]
  },
  {
   "cell_type": "code",
   "execution_count": null,
   "id": "63741f1c",
   "metadata": {},
   "outputs": [],
   "source": [
    "# key: 0 = gray, 1 = yellow, 2 = green\n",
    "\n",
    "word_played_r2_result = [0,2,0,2,0]"
   ]
  },
  {
   "cell_type": "code",
   "execution_count": null,
   "id": "7db6ca3e",
   "metadata": {
    "scrolled": true
   },
   "outputs": [],
   "source": [
    "# running filtering character reference list based on second round\n",
    "char_loc_ref_filt_func(word_played_r2, word_played_r2_result)"
   ]
  },
  {
   "cell_type": "code",
   "execution_count": null,
   "id": "fec3b3d9",
   "metadata": {
    "scrolled": false
   },
   "outputs": [],
   "source": [
    "# filtered data set based upon results of second round\n",
    "db_filtered_func(db_filtered)"
   ]
  },
  {
   "cell_type": "code",
   "execution_count": null,
   "id": "73bbcacb",
   "metadata": {
    "scrolled": true
   },
   "outputs": [],
   "source": [
    "# determing distribution of letters, based upon filtered data set, determining new letter weighting\n",
    "# filtering for words with five unique letters on filtered data set\n",
    "# weighting words in new filtered list. Must include \"yellow\" letters\n",
    "\n",
    "char_totals_func(db_filtered)\n",
    "db_uniques_func(db_filtered)\n",
    "word_st_func(db_uniques)\n",
    "print(\"Highest strength words: \" + str(sorted(word_st, key=word_st.get, reverse=True)[:5]))"
   ]
  },
  {
   "cell_type": "code",
   "execution_count": null,
   "id": "c6ab4377",
   "metadata": {},
   "outputs": [],
   "source": [
    "# word played for round 3\n",
    "\n",
    "word_played_r3 = 'DRUNK'"
   ]
  },
  {
   "cell_type": "code",
   "execution_count": null,
   "id": "58946b47",
   "metadata": {},
   "outputs": [],
   "source": [
    "# key: 0 = gray, 1 = yellow, 2 = green\n",
    "\n",
    "word_played_r3_result = [0,2,2,2,0]"
   ]
  },
  {
   "cell_type": "code",
   "execution_count": null,
   "id": "efb95c12",
   "metadata": {},
   "outputs": [],
   "source": [
    "# running filtering character reference list based on second round\n",
    "char_loc_ref_filt_func(word_played_r3, word_played_r3_result)"
   ]
  },
  {
   "cell_type": "code",
   "execution_count": null,
   "id": "bf52c663",
   "metadata": {},
   "outputs": [],
   "source": [
    "# filtered data set based upon results of third round\n",
    "db_filtered_func(db_filtered)"
   ]
  },
  {
   "cell_type": "code",
   "execution_count": null,
   "id": "a10a89cc",
   "metadata": {},
   "outputs": [],
   "source": [
    "# determing distribution of letters, based upon filtered data set, determining new letter weighting\n",
    "# words with multiple letters allowed for fourth round and on\n",
    "# weighting words in new filtered list. Must include \"yellow\" letters\n",
    "\n",
    "char_totals_func(db_filtered)\n",
    "word_st_func(db_filtered)\n",
    "print(\"Highest strength words: \" + str(sorted(word_st, key=word_st.get, reverse=True)[:5]))"
   ]
  },
  {
   "cell_type": "markdown",
   "id": "b61080d7",
   "metadata": {},
   "source": [
    "Words with multiple usage of same letter allowed for fourth round and on"
   ]
  },
  {
   "cell_type": "code",
   "execution_count": null,
   "id": "2419e08b",
   "metadata": {},
   "outputs": [],
   "source": [
    "# weighting words in new filtered list. Must include \"yellow\" letters\n",
    "\n",
    "word_st_func(db_filtered)\n",
    "print(\"Highest strength words: \" + str(sorted(word_st, key=word_st.get, reverse=True)[:5]))"
   ]
  },
  {
   "cell_type": "code",
   "execution_count": null,
   "id": "733bd00b",
   "metadata": {},
   "outputs": [],
   "source": [
    "# word played for round 4\n",
    "\n",
    "word_played_r4 = 'BRUNG'"
   ]
  },
  {
   "cell_type": "code",
   "execution_count": null,
   "id": "dc267991",
   "metadata": {},
   "outputs": [],
   "source": [
    "# key: 0 = gray, 1 = yellow, 2 = green\n",
    "\n",
    "word_played_r4_result = [2,2,2,2,2]"
   ]
  },
  {
   "cell_type": "code",
   "execution_count": null,
   "id": "e3eafc2b",
   "metadata": {
    "scrolled": false
   },
   "outputs": [],
   "source": [
    "# running filtering character reference list based on fourth round\n",
    "char_loc_ref_filt_func(word_played_r4, word_played_r4_result)"
   ]
  },
  {
   "cell_type": "code",
   "execution_count": null,
   "id": "d69b9085",
   "metadata": {},
   "outputs": [],
   "source": [
    "# filtered data set based upon results of third round\n",
    "db_filtered_func(db_filtered)"
   ]
  }
 ],
 "metadata": {
  "kernelspec": {
   "display_name": "Python 3 (ipykernel)",
   "language": "python",
   "name": "python3"
  },
  "language_info": {
   "codemirror_mode": {
    "name": "ipython",
    "version": 3
   },
   "file_extension": ".py",
   "mimetype": "text/x-python",
   "name": "python",
   "nbconvert_exporter": "python",
   "pygments_lexer": "ipython3",
   "version": "3.9.7"
  }
 },
 "nbformat": 4,
 "nbformat_minor": 5
}
